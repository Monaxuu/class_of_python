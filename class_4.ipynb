{
 "cells": [
  {
   "cell_type": "code",
   "execution_count": 1,
   "id": "efabe308-d0bf-4162-bf52-a9630727e9c5",
   "metadata": {},
   "outputs": [
    {
     "name": "stdin",
     "output_type": "stream",
     "text": [
      "please input the year: 2024\n"
     ]
    },
    {
     "name": "stdout",
     "output_type": "stream",
     "text": [
      "leap year\n"
     ]
    }
   ],
   "source": [
    "year = int(input('please input the year:'))\n",
    "if year % 400 == 0:\n",
    "    print('leap year')\n",
    "elif year % 100 == 0:\n",
    "    print('not leap year')\n",
    "elif year % 4 == 0:\n",
    "    print('leap year')\n",
    "else:\n",
    "    print('not leap year')"
   ]
  },
  {
   "cell_type": "code",
   "execution_count": 2,
   "id": "058466f3-26cb-4e1e-ac79-83686ad369db",
   "metadata": {},
   "outputs": [],
   "source": [
    "def leap_year(year):\n",
    "    if year % 400 == 0:\n",
    "        return True\n",
    "    elif year % 100 == 0:\n",
    "        return False\n",
    "    elif year % 4 == 0:\n",
    "        return True\n",
    "    else:\n",
    "        return False"
   ]
  },
  {
   "cell_type": "code",
   "execution_count": 1,
   "id": "f8e5bbfc-9883-4acd-b08e-011e95418066",
   "metadata": {},
   "outputs": [
    {
     "name": "stdin",
     "output_type": "stream",
     "text": [
      "please input the year: 2024\n"
     ]
    },
    {
     "ename": "NameError",
     "evalue": "name 'leap_year' is not defined",
     "output_type": "error",
     "traceback": [
      "\u001b[1;31m---------------------------------------------------------------------------\u001b[0m",
      "\u001b[1;31mNameError\u001b[0m                                 Traceback (most recent call last)",
      "Cell \u001b[1;32mIn[1], line 2\u001b[0m\n\u001b[0;32m      1\u001b[0m year \u001b[38;5;241m=\u001b[39m \u001b[38;5;28mint\u001b[39m(\u001b[38;5;28minput\u001b[39m(\u001b[38;5;124m'\u001b[39m\u001b[38;5;124mplease input the year:\u001b[39m\u001b[38;5;124m'\u001b[39m))\n\u001b[1;32m----> 2\u001b[0m \u001b[38;5;28mprint\u001b[39m(\u001b[38;5;124m'\u001b[39m\u001b[38;5;124mleap year\u001b[39m\u001b[38;5;124m'\u001b[39m \u001b[38;5;28;01mif\u001b[39;00m leap_year(year) \u001b[38;5;28;01melse\u001b[39;00m \u001b[38;5;124m'\u001b[39m\u001b[38;5;124mnot leap year\u001b[39m\u001b[38;5;124m'\u001b[39m)\n",
      "\u001b[1;31mNameError\u001b[0m: name 'leap_year' is not defined"
     ]
    }
   ],
   "source": [
    "year = int(input('please input the year:'))#要把业务逻辑和用户交互分开\n",
    "print('leap year' if leap_year(year) else 'not leap year')"
   ]
  },
  {
   "cell_type": "code",
   "execution_count": 5,
   "id": "f3696daf-2a76-4fab-9827-75ac7e79a20a",
   "metadata": {},
   "outputs": [],
   "source": [
    "assert 4>3"
   ]
  },
  {
   "cell_type": "code",
   "execution_count": 6,
   "id": "ab8333c6-295f-4593-b2c5-2589aa404cb8",
   "metadata": {},
   "outputs": [
    {
     "ename": "AssertionError",
     "evalue": "",
     "output_type": "error",
     "traceback": [
      "\u001b[1;31m---------------------------------------------------------------------------\u001b[0m",
      "\u001b[1;31mAssertionError\u001b[0m                            Traceback (most recent call last)",
      "Cell \u001b[1;32mIn[6], line 1\u001b[0m\n\u001b[1;32m----> 1\u001b[0m \u001b[38;5;28;01massert\u001b[39;00m \u001b[38;5;241m8\u001b[39m\u001b[38;5;241m<\u001b[39m\u001b[38;5;241m5\u001b[39m\n",
      "\u001b[1;31mAssertionError\u001b[0m: "
     ]
    }
   ],
   "source": [
    "assert 8<5"
   ]
  },
  {
   "cell_type": "code",
   "execution_count": null,
   "id": "d81a7682-6ec2-4831-be8b-f1321f969ce0",
   "metadata": {},
   "outputs": [],
   "source": [
    "a = 3"
   ]
  },
  {
   "cell_type": "code",
   "execution_count": 9,
   "id": "fe9aac8b-b26e-4a5e-8ceb-1567567de016",
   "metadata": {},
   "outputs": [
    {
     "ename": "AssertionError",
     "evalue": "a must be positive",
     "output_type": "error",
     "traceback": [
      "\u001b[1;31m---------------------------------------------------------------------------\u001b[0m",
      "\u001b[1;31mAssertionError\u001b[0m                            Traceback (most recent call last)",
      "Cell \u001b[1;32mIn[9], line 2\u001b[0m\n\u001b[0;32m      1\u001b[0m a \u001b[38;5;241m=\u001b[39m \u001b[38;5;241m-\u001b[39m\u001b[38;5;241m3\u001b[39m\n\u001b[1;32m----> 2\u001b[0m \u001b[38;5;28;01massert\u001b[39;00m a \u001b[38;5;241m>\u001b[39m \u001b[38;5;241m0\u001b[39m,\u001b[38;5;124m'\u001b[39m\u001b[38;5;124ma must be positive\u001b[39m\u001b[38;5;124m'\u001b[39m\n",
      "\u001b[1;31mAssertionError\u001b[0m: a must be positive"
     ]
    }
   ],
   "source": [
    "a = -3\n",
    "assert a > 0,'a must be positive'"
   ]
  },
  {
   "cell_type": "code",
   "execution_count": 14,
   "id": "ab5d2e68-e156-4e58-9b83-7a7f4e742ebc",
   "metadata": {},
   "outputs": [],
   "source": [
    "def test_leap_year():\n",
    "    assert leap_year(2000)\n",
    "    assert leap_year(1996)\n",
    "    assert not leap_year(1900)\n",
    "    print('leap_year() test ok')"
   ]
  },
  {
   "cell_type": "code",
   "execution_count": 15,
   "id": "f5f98989-3e8e-4c08-a2eb-99abad825e17",
   "metadata": {},
   "outputs": [
    {
     "name": "stdout",
     "output_type": "stream",
     "text": [
      "leap_year() test ok\n"
     ]
    }
   ],
   "source": [
    "test_leap_year()"
   ]
  },
  {
   "cell_type": "code",
   "execution_count": 17,
   "id": "8ae7336a-856a-4bde-92ac-24e66c65ef36",
   "metadata": {},
   "outputs": [],
   "source": [
    "def leap_year(year):\n",
    "    return (year % 400 == 0) or (year % 4 == 0 and year % 100)"
   ]
  },
  {
   "cell_type": "code",
   "execution_count": 18,
   "id": "1cc43fa8-64e8-45c4-b5b0-99e7461eaf78",
   "metadata": {},
   "outputs": [
    {
     "name": "stdout",
     "output_type": "stream",
     "text": [
      "leap_year() test ok\n"
     ]
    }
   ],
   "source": [
    "test_leap_year()"
   ]
  },
  {
   "cell_type": "code",
   "execution_count": 4,
   "id": "42ea2e65-f828-4ac8-8e7f-5a8d6a43a302",
   "metadata": {},
   "outputs": [
    {
     "name": "stdout",
     "output_type": "stream",
     "text": [
      "1 3 5 7 9 11 13 15 17 19 21 23 25 27 29 31 33 35 37 39 41 43 45 47 49 51 53 55 57 59 61 63 65 67 69 71 73 75 77 79 81 83 85 87 89 91 93 95 97 99 "
     ]
    }
   ],
   "source": [
    "x = 1\n",
    "while x <= 100:\n",
    "    print(x, end=' ')\n",
    "    x += 2"
   ]
  },
  {
   "cell_type": "code",
   "execution_count": 3,
   "id": "e7ae1204-eaf6-422c-8238-eaea0ee111a1",
   "metadata": {},
   "outputs": [
    {
     "name": "stdout",
     "output_type": "stream",
     "text": [
      "1 3 5 7 9 11 13 15 17 19 21 23 25 27 29 31 33 35 37 39 41 43 45 47 49 51 53 55 57 59 61 63 65 67 69 71 73 75 77 79 81 83 85 87 89 91 93 95 97 99 "
     ]
    }
   ],
   "source": [
    "for i in range(1, 100, 2):\n",
    "    print(i, end = ' ')"
   ]
  },
  {
   "cell_type": "code",
   "execution_count": 5,
   "id": "cbf3b72e-1342-4902-8b11-662b91ef17fc",
   "metadata": {},
   "outputs": [
    {
     "data": {
      "text/plain": [
       "[1,\n",
       " 2,\n",
       " 4,\n",
       " 5,\n",
       " 7,\n",
       " 8,\n",
       " 10,\n",
       " 11,\n",
       " 14,\n",
       " 16,\n",
       " 17,\n",
       " 19,\n",
       " 20,\n",
       " 22,\n",
       " 25,\n",
       " 26,\n",
       " 28,\n",
       " 29,\n",
       " 40,\n",
       " 41,\n",
       " 44,\n",
       " 46,\n",
       " 47,\n",
       " 49,\n",
       " 50,\n",
       " 52,\n",
       " 55,\n",
       " 56,\n",
       " 58,\n",
       " 59,\n",
       " 61,\n",
       " 62,\n",
       " 64,\n",
       " 65,\n",
       " 67,\n",
       " 68,\n",
       " 70,\n",
       " 71,\n",
       " 74,\n",
       " 76,\n",
       " 77,\n",
       " 79,\n",
       " 80,\n",
       " 82,\n",
       " 85,\n",
       " 86,\n",
       " 88,\n",
       " 89,\n",
       " 91,\n",
       " 92,\n",
       " 94,\n",
       " 95,\n",
       " 97,\n",
       " 98]"
      ]
     },
     "execution_count": 5,
     "metadata": {},
     "output_type": "execute_result"
    }
   ],
   "source": [
    "[i for i in range(1, 100) if i % 3 and not '3' in str(i)]"
   ]
  },
  {
   "cell_type": "code",
   "execution_count": 7,
   "id": "34a5b0c8-dea2-4d06-8767-3460b4aebe2d",
   "metadata": {},
   "outputs": [
    {
     "name": "stdout",
     "output_type": "stream",
     "text": [
      "**********\n",
      "**********\n",
      "**********\n",
      "**********\n",
      "**********\n"
     ]
    }
   ],
   "source": [
    "for _ in range (0, 5):\n",
    "    print('*' * 10)"
   ]
  },
  {
   "cell_type": "code",
   "execution_count": 10,
   "id": "9702cea7-f8fc-4ba6-9016-e9e408fb430f",
   "metadata": {},
   "outputs": [
    {
     "name": "stdout",
     "output_type": "stream",
     "text": [
      " *\n"
     ]
    }
   ],
   "source": [
    "print('*' ,end = '\\r')\n",
    "print('\\r *')"
   ]
  },
  {
   "cell_type": "code",
   "execution_count": 13,
   "id": "20090a38-24e0-4e4b-8080-d67dddabf7f0",
   "metadata": {},
   "outputs": [
    {
     "name": "stdout",
     "output_type": "stream",
     "text": [
      "hell\n"
     ]
    }
   ],
   "source": [
    "print('hello\\b')"
   ]
  },
  {
   "cell_type": "code",
   "execution_count": 16,
   "id": "dcf5b28b-cc48-45c4-bb78-84a56d561f6c",
   "metadata": {},
   "outputs": [
    {
     "name": "stdout",
     "output_type": "stream",
     "text": [
      "\b                                                           *"
     ]
    }
   ],
   "source": [
    "import math\n",
    "\n",
    "def wait(n):\n",
    "    for y in range(n):\n",
    "        z = math.sin(y)\n",
    "x = 1\n",
    "while x < 60:\n",
    "    print('\\b *', end = '',flush = True)\n",
    "    wait(1000000)\n",
    "    x += 1"
   ]
  },
  {
   "cell_type": "code",
   "execution_count": 17,
   "id": "f887b13e-879f-42bb-99db-8f31ec73aa71",
   "metadata": {},
   "outputs": [
    {
     "name": "stdout",
     "output_type": "stream",
     "text": [
      "\b                                                            *"
     ]
    }
   ],
   "source": [
    "import math\n",
    "\n",
    "def wait(n):\n",
    "    for y in range(n):\n",
    "        z = math.sin(y)\n",
    "for x in range(60):\n",
    "    print('\\b *', end = '',flush = True)\n",
    "    wait(1000000)\n",
    "    x += 1"
   ]
  },
  {
   "cell_type": "code",
   "execution_count": 20,
   "id": "5bea8fdf-40f4-4cce-b9af-327ffe7508bb",
   "metadata": {},
   "outputs": [
    {
     "name": "stdout",
     "output_type": "stream",
     "text": [
      "--------------------------------------------------*---------\n"
     ]
    }
   ],
   "source": [
    "bar = [ch for ch in '-' * 60]\n",
    "bar[50] = '*'\n",
    "print (''.join(bar))"
   ]
  },
  {
   "cell_type": "code",
   "execution_count": 24,
   "id": "e002383d-d583-42aa-a66f-0ba4506d9872",
   "metadata": {},
   "outputs": [
    {
     "name": "stdout",
     "output_type": "stream",
     "text": [
      "##############################******************************\r"
     ]
    }
   ],
   "source": [
    "x = 0\n",
    "y = 59\n",
    "\n",
    "for i in range(60):\n",
    "    bar[x] = '*'\n",
    "    bar[y] = '#'\n",
    "    print(''.join(bar), end = '',flush = True)\n",
    "    wait(1000000)\n",
    "    x += 1\n",
    "    y -= 1\n",
    "    print('\\r',end = '', flush = True)"
   ]
  },
  {
   "cell_type": "code",
   "execution_count": 23,
   "id": "81cb8390-8ee9-4d25-9347-d01fd692656c",
   "metadata": {},
   "outputs": [
    {
     "name": "stdout",
     "output_type": "stream",
     "text": [
      "#----------------------------------------------------------*\r"
     ]
    }
   ],
   "source": [
    "#上一个代码会留蚂蚁的尾巴，改进让趴过的地方再变会横线\n",
    "x = 0\n",
    "y = 59\n",
    "\n",
    "for i in range(60):\n",
    "    bar[x] = '*'\n",
    "    bar[y] = '#'\n",
    "    print(''.join(bar), end = '',flush = True)\n",
    "    wait(1000000)\n",
    "    bar[x] = bar[y] = '-'\n",
    "    x += 1\n",
    "    y -= 1\n",
    "    print('\\r',end = '', flush = True)"
   ]
  },
  {
   "cell_type": "code",
   "execution_count": 25,
   "id": "6504a382-c609-471c-be29-3e7c84f6eaff",
   "metadata": {},
   "outputs": [
    {
     "name": "stdin",
     "output_type": "stream",
     "text": [
      "please input a number: 49\n"
     ]
    },
    {
     "name": "stdout",
     "output_type": "stream",
     "text": [
      "7 suquared is 49\n"
     ]
    }
   ],
   "source": [
    "x = int(input('please input a number:'))\n",
    "for i in range(100):\n",
    "    if (i * i == x):\n",
    "        print(f'{i} suquared is {x}') #f是格式化，花括号表示一个占位符，由花括号里的字符串来代替\n",
    "        break #break 是彻底结束程序，但是如果for循环结束了还没break，就会调用下面的else\n",
    "\n",
    "else:\n",
    "    print('not found')"
   ]
  },
  {
   "cell_type": "code",
   "execution_count": 26,
   "id": "7f6dbc30-9a85-41a9-af6c-6ca6800d33ac",
   "metadata": {},
   "outputs": [
    {
     "name": "stdout",
     "output_type": "stream",
     "text": [
      "a\n",
      "b\n",
      "c\n"
     ]
    }
   ],
   "source": [
    "names = ['a', 'b', 'c']\n",
    "ages = [10, 20, 30]\n",
    "\n",
    "for name in names:\n",
    "    print(name)"
   ]
  },
  {
   "cell_type": "code",
   "execution_count": 30,
   "id": "ae032778-9459-419e-994d-4bab0417fd8a",
   "metadata": {},
   "outputs": [
    {
     "name": "stdout",
     "output_type": "stream",
     "text": [
      "a : 10\n",
      "b : 20\n",
      "c : 30\n"
     ]
    }
   ],
   "source": [
    "names = ['a', 'b', 'c']\n",
    "ages = [10, 20, 30]\n",
    "\n",
    "for i in range(len(names)):\n",
    "    print(f'{names[i]} : {ages[i]}') "
   ]
  },
  {
   "cell_type": "code",
   "execution_count": 32,
   "id": "00447eb9-f555-4fc6-860f-42a252ff507f",
   "metadata": {},
   "outputs": [
    {
     "name": "stdout",
     "output_type": "stream",
     "text": [
      "a : 10\n",
      "b : 20\n",
      "c : 30\n"
     ]
    }
   ],
   "source": [
    "#改进\n",
    "\n",
    "for name, age in zip(names, ages):\n",
    "    print(f'{name} : {age}') "
   ]
  },
  {
   "cell_type": "code",
   "execution_count": 34,
   "id": "a1410a4a-d5a3-4154-93f3-44b008acf982",
   "metadata": {},
   "outputs": [
    {
     "name": "stdout",
     "output_type": "stream",
     "text": [
      "hello\n"
     ]
    }
   ],
   "source": [
    "exec(\"print('hello')\")#效果与直接print一样，可以编一个程序，使用户输入一个代码，我们来给他执行"
   ]
  },
  {
   "cell_type": "code",
   "execution_count": 35,
   "id": "3ebe11b4-d484-416b-bb9f-643e852bb6db",
   "metadata": {},
   "outputs": [
    {
     "name": "stdin",
     "output_type": "stream",
     "text": [
      "please input a statement: print(3+4)\n"
     ]
    },
    {
     "name": "stdout",
     "output_type": "stream",
     "text": [
      "7\n"
     ]
    }
   ],
   "source": [
    "cmd = input('please input a statement:')#即执行用户输入的语法\n",
    "exec(cmd)"
   ]
  },
  {
   "cell_type": "code",
   "execution_count": 38,
   "id": "c41d1a16-95fd-49e1-9418-be976ff60104",
   "metadata": {},
   "outputs": [
    {
     "name": "stdin",
     "output_type": "stream",
     "text": [
      "please input a statement: 3.14/8\n"
     ]
    },
    {
     "name": "stdout",
     "output_type": "stream",
     "text": [
      "0.3824994972760097\n"
     ]
    }
   ],
   "source": [
    "cmd = input('please input a statement:')\n",
    "print(math.sin(eval(cmd)))#eval是来算用户给的算式的"
   ]
  },
  {
   "cell_type": "code",
   "execution_count": 41,
   "id": "2a728143-a02d-4b3e-840d-960d8fd70ed0",
   "metadata": {},
   "outputs": [
    {
     "name": "stdin",
     "output_type": "stream",
     "text": [
      "please input a statement: sqrt = 1\n"
     ]
    }
   ],
   "source": [
    "exec(input('please input a statement:'))"
   ]
  },
  {
   "cell_type": "code",
   "execution_count": 42,
   "id": "5fed7e9e-3c11-4b23-9af1-999ae6c60e1e",
   "metadata": {},
   "outputs": [
    {
     "ename": "TypeError",
     "evalue": "'int' object is not callable",
     "output_type": "error",
     "traceback": [
      "\u001b[1;31m---------------------------------------------------------------------------\u001b[0m",
      "\u001b[1;31mTypeError\u001b[0m                                 Traceback (most recent call last)",
      "Cell \u001b[1;32mIn[42], line 1\u001b[0m\n\u001b[1;32m----> 1\u001b[0m sqrt(\u001b[38;5;241m4\u001b[39m)\n",
      "\u001b[1;31mTypeError\u001b[0m: 'int' object is not callable"
     ]
    }
   ],
   "source": [
    "sqrt(4)#39行的代码把sqrt贴给1了，但他本身是一个函数的名字，这个时候就是被用户输入的给占用了，就会导致自己的代码出问题"
   ]
  },
  {
   "cell_type": "code",
   "execution_count": 43,
   "id": "5b1115ab-2d24-4fa0-8725-240c103e29e6",
   "metadata": {},
   "outputs": [
    {
     "ename": "NameError",
     "evalue": "name 'scope' is not defined",
     "output_type": "error",
     "traceback": [
      "\u001b[1;31m---------------------------------------------------------------------------\u001b[0m",
      "\u001b[1;31mNameError\u001b[0m                                 Traceback (most recent call last)",
      "Cell \u001b[1;32mIn[43], line 1\u001b[0m\n\u001b[1;32m----> 1\u001b[0m scope\n",
      "\u001b[1;31mNameError\u001b[0m: name 'scope' is not defined"
     ]
    }
   ],
   "source": [
    "scope"
   ]
  },
  {
   "cell_type": "code",
   "execution_count": 44,
   "id": "fece9b55-a9c5-4c91-9922-c504f5361589",
   "metadata": {},
   "outputs": [],
   "source": [
    "from math import sqrt\n",
    "\n",
    "scope = {}\n",
    "exec('sqrt=1',scope)"
   ]
  },
  {
   "cell_type": "code",
   "execution_count": 45,
   "id": "ce525555-181a-4c57-8ab2-aabc167c6d14",
   "metadata": {},
   "outputs": [
    {
     "data": {
      "text/plain": [
       "2.0"
      ]
     },
     "execution_count": 45,
     "metadata": {},
     "output_type": "execute_result"
    }
   ],
   "source": [
    "sqrt(4)"
   ]
  },
  {
   "cell_type": "code",
   "execution_count": 46,
   "id": "0b71acee-91fb-4466-845d-ac5f94a2ae01",
   "metadata": {},
   "outputs": [],
   "source": [
    "scope\n",
    "a = 1\n"
   ]
  },
  {
   "cell_type": "code",
   "execution_count": 54,
   "id": "55b48ba1-6c03-47b0-a412-5da75ad5234c",
   "metadata": {},
   "outputs": [],
   "source": [
    "def hello(name):\n",
    "    '''\n",
    "    say hello to sombody\n",
    "    '''\n",
    "    print('*' * 50)#后加的，为了证明设置成函数可以随便改内容，比较方便\n",
    "    print(f'hello {name}'.center(48, ' ').center(50, '*'))#center函数是从中间向两边排\n",
    "    print('*' * 50)"
   ]
  },
  {
   "cell_type": "code",
   "execution_count": 55,
   "id": "2d63f5f2-18d0-4fed-9e05-8651f79d20f6",
   "metadata": {},
   "outputs": [
    {
     "name": "stdout",
     "output_type": "stream",
     "text": [
      "**************************************************\n",
      "*                  hello world                   *\n",
      "**************************************************\n"
     ]
    }
   ],
   "source": [
    "hello('world')"
   ]
  },
  {
   "cell_type": "code",
   "execution_count": 49,
   "id": "76b5cbf0-e144-4e26-92bc-c3a4e79d05d2",
   "metadata": {},
   "outputs": [
    {
     "name": "stdout",
     "output_type": "stream",
     "text": [
      "<function hello at 0x0000027888EAA660>\n"
     ]
    }
   ],
   "source": [
    "print(hello)"
   ]
  },
  {
   "cell_type": "code",
   "execution_count": 50,
   "id": "7c3d1a87-1465-4e24-ac6f-35c4a7d1b382",
   "metadata": {},
   "outputs": [
    {
     "data": {
      "text/plain": [
       "True"
      ]
     },
     "execution_count": 50,
     "metadata": {},
     "output_type": "execute_result"
    }
   ],
   "source": [
    "callable(hello)"
   ]
  },
  {
   "cell_type": "code",
   "execution_count": 52,
   "id": "a4842008-2bdf-4ca7-9025-47234fb95964",
   "metadata": {},
   "outputs": [
    {
     "data": {
      "text/plain": [
       "False"
      ]
     },
     "execution_count": 52,
     "metadata": {},
     "output_type": "execute_result"
    }
   ],
   "source": [
    "a = {}\n",
    "callable(a)"
   ]
  },
  {
   "cell_type": "code",
   "execution_count": 56,
   "id": "1a50cdc3-7c55-4fe2-a00d-023c6bcc5c19",
   "metadata": {},
   "outputs": [
    {
     "name": "stdout",
     "output_type": "stream",
     "text": [
      "Help on function hello in module __main__:\n",
      "\n",
      "hello(name)\n",
      "    say hello to sombody\n",
      "\n"
     ]
    }
   ],
   "source": [
    "help(hello)#可以查看这个函数的内容"
   ]
  },
  {
   "cell_type": "code",
   "execution_count": 57,
   "id": "1d50305d-ad86-45c9-9226-24560a917010",
   "metadata": {},
   "outputs": [
    {
     "name": "stdout",
     "output_type": "stream",
     "text": [
      "[0, 1]\n"
     ]
    }
   ],
   "source": [
    "def test(a_list):\n",
    "    a_list = [10]\n",
    "\n",
    "my_list = [0, 1]\n",
    "test(my_list)\n",
    "print(my_list)#python是在贴标签，看lable到底贴在谁身上"
   ]
  },
  {
   "cell_type": "code",
   "execution_count": 58,
   "id": "1da4d19a-464f-46d7-8bac-d2184a420394",
   "metadata": {},
   "outputs": [
    {
     "name": "stdout",
     "output_type": "stream",
     "text": [
      "[10, 1]\n"
     ]
    }
   ],
   "source": [
    "def test(a_list):\n",
    "    a_list[0] = 10#这里是把a等于了my，然后改变了第一个元素，所以变了\n",
    "\n",
    "my_list = [0, 1]\n",
    "test(my_list)\n",
    "print(my_list)"
   ]
  },
  {
   "cell_type": "code",
   "execution_count": 60,
   "id": "cf9bceff-6321-4755-8c81-ff60b68b8533",
   "metadata": {},
   "outputs": [
    {
     "name": "stdout",
     "output_type": "stream",
     "text": [
      "4\n"
     ]
    }
   ],
   "source": [
    "def double_it(num):\n",
    "    num*2\n",
    "\n",
    "n = 4\n",
    "double_it(n)\n",
    "print(n)"
   ]
  },
  {
   "cell_type": "code",
   "execution_count": 61,
   "id": "a5bb95ef-55c4-4c80-992c-b5d977edf4c0",
   "metadata": {},
   "outputs": [
    {
     "name": "stdout",
     "output_type": "stream",
     "text": [
      "8\n"
     ]
    }
   ],
   "source": [
    "def double_it(num):\n",
    "    return num*2\n",
    "    \n",
    "\n",
    "n = 4\n",
    "n = double_it(n)\n",
    "print(n)"
   ]
  },
  {
   "cell_type": "code",
   "execution_count": 62,
   "id": "e1a5ef2f-44c9-4290-be2b-79ea563fc233",
   "metadata": {},
   "outputs": [],
   "source": [
    "def hello(greeting, name):\n",
    "    print(f'{greeting},{name}!')\n",
    "    "
   ]
  },
  {
   "cell_type": "code",
   "execution_count": 63,
   "id": "029b97c4-3f65-498f-8746-940e659bbb91",
   "metadata": {},
   "outputs": [
    {
     "name": "stdout",
     "output_type": "stream",
     "text": [
      "welcome,zhangsan!\n"
     ]
    }
   ],
   "source": [
    "hello('welcome','zhangsan')"
   ]
  },
  {
   "cell_type": "code",
   "execution_count": 64,
   "id": "91652f27-d521-4433-9399-b03b1096e437",
   "metadata": {},
   "outputs": [
    {
     "name": "stdout",
     "output_type": "stream",
     "text": [
      "zhangsan,welcome!\n"
     ]
    }
   ],
   "source": [
    "hello('zhangsan','welcome')#python的变量只看顺序，不看名字，所以要注意传入的参数的顺序"
   ]
  },
  {
   "cell_type": "code",
   "execution_count": 65,
   "id": "11ef8f90-f462-4278-837b-0cddc2455a40",
   "metadata": {},
   "outputs": [
    {
     "name": "stdout",
     "output_type": "stream",
     "text": [
      "welcome,zhangsan!\n"
     ]
    }
   ],
   "source": [
    "hello(name = 'zhangsan',greeting = 'welcome')#明确参数的名字可以避免传参顺序出错的问题"
   ]
  },
  {
   "cell_type": "code",
   "execution_count": 67,
   "id": "d72182a4-378c-4798-b6b4-5406ccf7a317",
   "metadata": {},
   "outputs": [
    {
     "name": "stdout",
     "output_type": "stream",
     "text": [
      "(1, 2, 3, 5)\n"
     ]
    }
   ],
   "source": [
    "def print_params(*params):#*就是打包，a，*b=1,2,3那么b就会把2，3打包收集。且是用元组来收集\n",
    "    print(params)\n",
    "\n",
    "print_params(1,2,3,5)    "
   ]
  },
  {
   "cell_type": "code",
   "execution_count": 68,
   "id": "b578a537-acef-4243-b557-9c44b61d6383",
   "metadata": {},
   "outputs": [
    {
     "name": "stdout",
     "output_type": "stream",
     "text": [
      "{'x': 1, 'y': 2, 'z': 3, 'q': 5}\n"
     ]
    }
   ],
   "source": [
    "def print_params(**params):#**用字典来收集\n",
    "    print(params)\n",
    "\n",
    "print_params(x = 1,y = 2,z = 3,q = 5)#但要给每个参数名名字"
   ]
  },
  {
   "cell_type": "code",
   "execution_count": 69,
   "id": "7127b9ea-d9cb-4725-9461-bafa37cdeb27",
   "metadata": {},
   "outputs": [
    {
     "name": "stdout",
     "output_type": "stream",
     "text": [
      "1 2 3\n"
     ]
    }
   ],
   "source": [
    "print(1,2,3)"
   ]
  },
  {
   "cell_type": "code",
   "execution_count": 70,
   "id": "0ac62d85-3b99-463f-8273-4fa582378793",
   "metadata": {},
   "outputs": [
    {
     "name": "stdout",
     "output_type": "stream",
     "text": [
      "10\n",
      "9\n",
      "8\n",
      "7\n",
      "6\n",
      "5\n",
      "4\n",
      "3\n",
      "2\n",
      "1\n"
     ]
    }
   ],
   "source": [
    "def print_numbers(n):\n",
    "    if n > 0 :\n",
    "        print(n)\n",
    "        print_numbers(n-1)#递归思想，只考虑自己要写哪个数字就好。要有一个停止条件，要有一个自己的简化版本的调用\n",
    "\n",
    "print_numbers(10)"
   ]
  },
  {
   "cell_type": "code",
   "execution_count": 71,
   "id": "11a83a6d-08d9-4fa5-942b-6169e1a72024",
   "metadata": {},
   "outputs": [
    {
     "name": "stdout",
     "output_type": "stream",
     "text": [
      "1\n",
      "2\n",
      "3\n",
      "4\n",
      "5\n",
      "6\n",
      "7\n",
      "8\n",
      "9\n",
      "10\n"
     ]
    }
   ],
   "source": [
    "def print_numbers(n):\n",
    "    if n > 0 :\n",
    "        print_numbers(n-1)#这个是前面的人写的\n",
    "        print(n)#这个是我要写的数字，不用管别人的\n",
    "\n",
    "print_numbers(10)"
   ]
  },
  {
   "cell_type": "code",
   "execution_count": 77,
   "id": "ede542d4-2da4-4251-8081-e7dbbda4159d",
   "metadata": {},
   "outputs": [],
   "source": [
    "def Fib(i):\n",
    "    if i == 0 or i == 1:\n",
    "        return 1\n",
    "    else:\n",
    "        return Fib(i - 1) + Fib(i - 2)"
   ]
  },
  {
   "cell_type": "code",
   "execution_count": 78,
   "id": "53f87a81-45b9-4639-bf4a-5b51ad54963c",
   "metadata": {},
   "outputs": [
    {
     "data": {
      "text/plain": [
       "5"
      ]
     },
     "execution_count": 78,
     "metadata": {},
     "output_type": "execute_result"
    }
   ],
   "source": [
    "Fib(4)"
   ]
  },
  {
   "cell_type": "code",
   "execution_count": 80,
   "id": "5529694b-7e94-4de5-952b-85dcf954b019",
   "metadata": {},
   "outputs": [],
   "source": [
    "from functools import lru_cache\n",
    "\n",
    "@lru_cache(maxsize = None)#这个装饰器的作用是自动缓存函数的返回值，以便在函数被重复调用时，\n",
    "#如果输入参数相同，就可以直接从缓存中获取结果，而不是重新计算\n",
    "def Fib(i):\n",
    "    if i == 0 or i == 1:\n",
    "        return 1\n",
    "    else:\n",
    "        return Fib(i - 1) + Fib(i - 2)"
   ]
  },
  {
   "cell_type": "code",
   "execution_count": 81,
   "id": "1eaed6a3-7230-43e0-baa8-2518e8954db0",
   "metadata": {},
   "outputs": [
    {
     "data": {
      "text/plain": [
       "573147844013817084101"
      ]
     },
     "execution_count": 81,
     "metadata": {},
     "output_type": "execute_result"
    }
   ],
   "source": [
    "Fib(100)"
   ]
  },
  {
   "cell_type": "code",
   "execution_count": 86,
   "id": "4e064b5d-52b3-460b-b7b3-700227e78883",
   "metadata": {},
   "outputs": [
    {
     "name": "stdout",
     "output_type": "stream",
     "text": [
      "a --> c\n",
      "a --> c\n",
      "b --> c\n",
      "a --> c\n",
      "b --> c\n",
      "b --> c\n",
      "a --> c\n",
      "a --> c\n",
      "b --> c\n",
      "b --> c\n",
      "a --> c\n",
      "b --> c\n",
      "a --> c\n",
      "a --> c\n",
      "b --> c\n"
     ]
    }
   ],
   "source": [
    "def hanoi(n, source, dest, temp):#临时过渡的是temp，source是开始的那个柱子，dest是目标(搬盘子的任务)\n",
    "    if n > 1:\n",
    "        hanoi(n-1,source, dest, temp)\n",
    "        print(f'{source} --> {dest}')\n",
    "        hanoi(n-1 ,temp, dest, source)\n",
    "    else:\n",
    "        print(f'{source} --> {dest}')\n",
    "\n",
    "hanoi(4, 'a', 'c', 'b')"
   ]
  },
  {
   "cell_type": "code",
   "execution_count": null,
   "id": "0f58fa23-fca7-444a-9e31-d9937bade4c9",
   "metadata": {},
   "outputs": [],
   "source": []
  }
 ],
 "metadata": {
  "kernelspec": {
   "display_name": "Python 3 (ipykernel)",
   "language": "python",
   "name": "python3"
  },
  "language_info": {
   "codemirror_mode": {
    "name": "ipython",
    "version": 3
   },
   "file_extension": ".py",
   "mimetype": "text/x-python",
   "name": "python",
   "nbconvert_exporter": "python",
   "pygments_lexer": "ipython3",
   "version": "3.12.4"
  }
 },
 "nbformat": 4,
 "nbformat_minor": 5
}
